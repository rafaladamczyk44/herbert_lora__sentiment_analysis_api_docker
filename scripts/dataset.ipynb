{
 "cells": [
  {
   "cell_type": "code",
   "id": "initial_id",
   "metadata": {
    "collapsed": true,
    "ExecuteTime": {
     "end_time": "2025-10-18T12:40:29.763990Z",
     "start_time": "2025-10-18T12:40:29.761120Z"
    }
   },
   "source": [
    "from datasets import load_dataset\n",
    "import pandas as pd"
   ],
   "outputs": [],
   "execution_count": 39
  },
  {
   "metadata": {
    "ExecuteTime": {
     "end_time": "2025-10-18T12:40:29.782566Z",
     "start_time": "2025-10-18T12:40:29.780413Z"
    }
   },
   "cell_type": "code",
   "source": "dataset_name = 'allegro/klej-allegro-reviews'",
   "id": "92eaa257dc140a3a",
   "outputs": [],
   "execution_count": 40
  },
  {
   "metadata": {
    "ExecuteTime": {
     "end_time": "2025-10-18T12:40:31.819980Z",
     "start_time": "2025-10-18T12:40:29.786191Z"
    }
   },
   "cell_type": "code",
   "source": "dataset = load_dataset(dataset_name)",
   "id": "25965c483130237c",
   "outputs": [],
   "execution_count": 41
  },
  {
   "metadata": {
    "ExecuteTime": {
     "end_time": "2025-10-18T12:40:31.842800Z",
     "start_time": "2025-10-18T12:40:31.839749Z"
    }
   },
   "cell_type": "code",
   "source": "dataset['train']",
   "id": "99024611f2345674",
   "outputs": [
    {
     "data": {
      "text/plain": [
       "Dataset({\n",
       "    features: ['text', 'rating'],\n",
       "    num_rows: 9577\n",
       "})"
      ]
     },
     "execution_count": 42,
     "metadata": {},
     "output_type": "execute_result"
    }
   ],
   "execution_count": 42
  },
  {
   "metadata": {
    "ExecuteTime": {
     "end_time": "2025-10-18T12:40:31.885879Z",
     "start_time": "2025-10-18T12:40:31.872973Z"
    }
   },
   "cell_type": "code",
   "source": [
    "df = dataset['train'].to_pandas()\n",
    "df"
   ],
   "id": "4f3c2bbd9883cc63",
   "outputs": [
    {
     "data": {
      "text/plain": [
       "                                                   text  rating\n",
       "0     Jako do ceny dobra. Przyssawka mogłaby być lep...     3.0\n",
       "1     Na słuchawkę czekałam spory czas a po zadzwoni...     1.0\n",
       "2     Czajnik na pierwszy rzut oka wygląda ok, ale n...     1.0\n",
       "3     Bardzo fajny czajnik, na pewno nie gorszy od m...     4.0\n",
       "4     Pomysł na produkt (uchwyt na kierownicę) bardz...     2.0\n",
       "...                                                 ...     ...\n",
       "9572  Produkt nie do końca zgadza się z opisem aukcj...     4.0\n",
       "9573  Opaska Xiaomi Mi Band 4 to super gadżet. Wedłu...     5.0\n",
       "9574  \"Bardzo ładnie prezentuje sie po zamontowaniu....     4.0\n",
       "9575  Nie wiem jakie są zalety ani wady ani jak to o...     2.0\n",
       "9576                                                ...     5.0\n",
       "\n",
       "[9577 rows x 2 columns]"
      ],
      "text/html": [
       "<div>\n",
       "<style scoped>\n",
       "    .dataframe tbody tr th:only-of-type {\n",
       "        vertical-align: middle;\n",
       "    }\n",
       "\n",
       "    .dataframe tbody tr th {\n",
       "        vertical-align: top;\n",
       "    }\n",
       "\n",
       "    .dataframe thead th {\n",
       "        text-align: right;\n",
       "    }\n",
       "</style>\n",
       "<table border=\"1\" class=\"dataframe\">\n",
       "  <thead>\n",
       "    <tr style=\"text-align: right;\">\n",
       "      <th></th>\n",
       "      <th>text</th>\n",
       "      <th>rating</th>\n",
       "    </tr>\n",
       "  </thead>\n",
       "  <tbody>\n",
       "    <tr>\n",
       "      <th>0</th>\n",
       "      <td>Jako do ceny dobra. Przyssawka mogłaby być lep...</td>\n",
       "      <td>3.0</td>\n",
       "    </tr>\n",
       "    <tr>\n",
       "      <th>1</th>\n",
       "      <td>Na słuchawkę czekałam spory czas a po zadzwoni...</td>\n",
       "      <td>1.0</td>\n",
       "    </tr>\n",
       "    <tr>\n",
       "      <th>2</th>\n",
       "      <td>Czajnik na pierwszy rzut oka wygląda ok, ale n...</td>\n",
       "      <td>1.0</td>\n",
       "    </tr>\n",
       "    <tr>\n",
       "      <th>3</th>\n",
       "      <td>Bardzo fajny czajnik, na pewno nie gorszy od m...</td>\n",
       "      <td>4.0</td>\n",
       "    </tr>\n",
       "    <tr>\n",
       "      <th>4</th>\n",
       "      <td>Pomysł na produkt (uchwyt na kierownicę) bardz...</td>\n",
       "      <td>2.0</td>\n",
       "    </tr>\n",
       "    <tr>\n",
       "      <th>...</th>\n",
       "      <td>...</td>\n",
       "      <td>...</td>\n",
       "    </tr>\n",
       "    <tr>\n",
       "      <th>9572</th>\n",
       "      <td>Produkt nie do końca zgadza się z opisem aukcj...</td>\n",
       "      <td>4.0</td>\n",
       "    </tr>\n",
       "    <tr>\n",
       "      <th>9573</th>\n",
       "      <td>Opaska Xiaomi Mi Band 4 to super gadżet. Wedłu...</td>\n",
       "      <td>5.0</td>\n",
       "    </tr>\n",
       "    <tr>\n",
       "      <th>9574</th>\n",
       "      <td>\"Bardzo ładnie prezentuje sie po zamontowaniu....</td>\n",
       "      <td>4.0</td>\n",
       "    </tr>\n",
       "    <tr>\n",
       "      <th>9575</th>\n",
       "      <td>Nie wiem jakie są zalety ani wady ani jak to o...</td>\n",
       "      <td>2.0</td>\n",
       "    </tr>\n",
       "    <tr>\n",
       "      <th>9576</th>\n",
       "      <td>...</td>\n",
       "      <td>5.0</td>\n",
       "    </tr>\n",
       "  </tbody>\n",
       "</table>\n",
       "<p>9577 rows × 2 columns</p>\n",
       "</div>"
      ]
     },
     "execution_count": 43,
     "metadata": {},
     "output_type": "execute_result"
    }
   ],
   "execution_count": 43
  },
  {
   "metadata": {
    "ExecuteTime": {
     "end_time": "2025-10-18T12:40:31.955296Z",
     "start_time": "2025-10-18T12:40:31.952846Z"
    }
   },
   "cell_type": "code",
   "source": [
    "df['sentiment'] = df['rating'].map(\n",
    "    {\n",
    "        5.0: 'positive',\n",
    "        4.0: 'positive',\n",
    "        3.0: 'neutral',\n",
    "        2.0: 'negative',\n",
    "        1.0: 'negative',\n",
    "    }\n",
    ")"
   ],
   "id": "bd0a43847a2fe07a",
   "outputs": [],
   "execution_count": 44
  },
  {
   "metadata": {
    "ExecuteTime": {
     "end_time": "2025-10-18T12:40:31.974949Z",
     "start_time": "2025-10-18T12:40:31.972080Z"
    }
   },
   "cell_type": "code",
   "source": "df['sentiment'].value_counts()",
   "id": "ae3367b5ff5db98f",
   "outputs": [
    {
     "data": {
      "text/plain": [
       "sentiment\n",
       "positive    5567\n",
       "negative    2802\n",
       "neutral     1208\n",
       "Name: count, dtype: int64"
      ]
     },
     "execution_count": 45,
     "metadata": {},
     "output_type": "execute_result"
    }
   ],
   "execution_count": 45
  },
  {
   "metadata": {
    "ExecuteTime": {
     "end_time": "2025-10-18T13:24:02.263226Z",
     "start_time": "2025-10-18T13:24:02.255755Z"
    }
   },
   "cell_type": "code",
   "source": [
    "g = df.groupby('sentiment')\n",
    "df = g.apply(lambda x: x.sample(g.size().min()).reset_index(drop=True))"
   ],
   "id": "4d9a881ef4664ab9",
   "outputs": [
    {
     "name": "stderr",
     "output_type": "stream",
     "text": [
      "/var/folders/zb/r99_v3zs3yv2m9vf5z0rlbqc0000gn/T/ipykernel_24839/1529831074.py:2: FutureWarning: DataFrameGroupBy.apply operated on the grouping columns. This behavior is deprecated, and in a future version of pandas the grouping columns will be excluded from the operation. Either pass `include_groups=False` to exclude the groupings or explicitly select the grouping columns after groupby to silence this warning.\n",
      "  df = g.apply(lambda x: x.sample(g.size().min()).reset_index(drop=True))\n"
     ]
    }
   ],
   "execution_count": 50
  },
  {
   "metadata": {
    "ExecuteTime": {
     "end_time": "2025-10-18T13:24:08.940457Z",
     "start_time": "2025-10-18T13:24:08.935887Z"
    }
   },
   "cell_type": "code",
   "source": "df['sentiment'].value_counts()",
   "id": "dc2373e3f0ea5fc2",
   "outputs": [
    {
     "data": {
      "text/plain": [
       "sentiment\n",
       "negative    1208\n",
       "neutral     1208\n",
       "positive    1208\n",
       "Name: count, dtype: int64"
      ]
     },
     "execution_count": 51,
     "metadata": {},
     "output_type": "execute_result"
    }
   ],
   "execution_count": 51
  },
  {
   "metadata": {
    "ExecuteTime": {
     "end_time": "2025-10-18T13:42:42.394914Z",
     "start_time": "2025-10-18T13:42:42.391521Z"
    }
   },
   "cell_type": "code",
   "source": "df['text'].isnull().sum() > 0",
   "id": "345dd73dc3fb0990",
   "outputs": [
    {
     "data": {
      "text/plain": [
       "np.False_"
      ]
     },
     "execution_count": 58,
     "metadata": {},
     "output_type": "execute_result"
    }
   ],
   "execution_count": 58
  },
  {
   "metadata": {
    "ExecuteTime": {
     "end_time": "2025-10-18T13:42:23.079948Z",
     "start_time": "2025-10-18T13:42:23.070314Z"
    }
   },
   "cell_type": "code",
   "source": "",
   "id": "347b89b3dec4a6ed",
   "outputs": [
    {
     "data": {
      "text/plain": [
       "                 text  rating  sentiment\n",
       "sentiment                               \n",
       "negative  0     False   False      False\n",
       "          1     False   False      False\n",
       "          2     False   False      False\n",
       "          3     False   False      False\n",
       "          4     False   False      False\n",
       "...               ...     ...        ...\n",
       "positive  1203  False   False      False\n",
       "          1204  False   False      False\n",
       "          1205  False   False      False\n",
       "          1206  False   False      False\n",
       "          1207  False   False      False\n",
       "\n",
       "[3624 rows x 3 columns]"
      ],
      "text/html": [
       "<div>\n",
       "<style scoped>\n",
       "    .dataframe tbody tr th:only-of-type {\n",
       "        vertical-align: middle;\n",
       "    }\n",
       "\n",
       "    .dataframe tbody tr th {\n",
       "        vertical-align: top;\n",
       "    }\n",
       "\n",
       "    .dataframe thead th {\n",
       "        text-align: right;\n",
       "    }\n",
       "</style>\n",
       "<table border=\"1\" class=\"dataframe\">\n",
       "  <thead>\n",
       "    <tr style=\"text-align: right;\">\n",
       "      <th></th>\n",
       "      <th></th>\n",
       "      <th>text</th>\n",
       "      <th>rating</th>\n",
       "      <th>sentiment</th>\n",
       "    </tr>\n",
       "    <tr>\n",
       "      <th>sentiment</th>\n",
       "      <th></th>\n",
       "      <th></th>\n",
       "      <th></th>\n",
       "      <th></th>\n",
       "    </tr>\n",
       "  </thead>\n",
       "  <tbody>\n",
       "    <tr>\n",
       "      <th rowspan=\"5\" valign=\"top\">negative</th>\n",
       "      <th>0</th>\n",
       "      <td>False</td>\n",
       "      <td>False</td>\n",
       "      <td>False</td>\n",
       "    </tr>\n",
       "    <tr>\n",
       "      <th>1</th>\n",
       "      <td>False</td>\n",
       "      <td>False</td>\n",
       "      <td>False</td>\n",
       "    </tr>\n",
       "    <tr>\n",
       "      <th>2</th>\n",
       "      <td>False</td>\n",
       "      <td>False</td>\n",
       "      <td>False</td>\n",
       "    </tr>\n",
       "    <tr>\n",
       "      <th>3</th>\n",
       "      <td>False</td>\n",
       "      <td>False</td>\n",
       "      <td>False</td>\n",
       "    </tr>\n",
       "    <tr>\n",
       "      <th>4</th>\n",
       "      <td>False</td>\n",
       "      <td>False</td>\n",
       "      <td>False</td>\n",
       "    </tr>\n",
       "    <tr>\n",
       "      <th>...</th>\n",
       "      <th>...</th>\n",
       "      <td>...</td>\n",
       "      <td>...</td>\n",
       "      <td>...</td>\n",
       "    </tr>\n",
       "    <tr>\n",
       "      <th rowspan=\"5\" valign=\"top\">positive</th>\n",
       "      <th>1203</th>\n",
       "      <td>False</td>\n",
       "      <td>False</td>\n",
       "      <td>False</td>\n",
       "    </tr>\n",
       "    <tr>\n",
       "      <th>1204</th>\n",
       "      <td>False</td>\n",
       "      <td>False</td>\n",
       "      <td>False</td>\n",
       "    </tr>\n",
       "    <tr>\n",
       "      <th>1205</th>\n",
       "      <td>False</td>\n",
       "      <td>False</td>\n",
       "      <td>False</td>\n",
       "    </tr>\n",
       "    <tr>\n",
       "      <th>1206</th>\n",
       "      <td>False</td>\n",
       "      <td>False</td>\n",
       "      <td>False</td>\n",
       "    </tr>\n",
       "    <tr>\n",
       "      <th>1207</th>\n",
       "      <td>False</td>\n",
       "      <td>False</td>\n",
       "      <td>False</td>\n",
       "    </tr>\n",
       "  </tbody>\n",
       "</table>\n",
       "<p>3624 rows × 3 columns</p>\n",
       "</div>"
      ]
     },
     "execution_count": 56,
     "metadata": {},
     "output_type": "execute_result"
    }
   ],
   "execution_count": 56
  },
  {
   "metadata": {
    "ExecuteTime": {
     "end_time": "2025-10-18T13:27:53.614854Z",
     "start_time": "2025-10-18T13:27:53.607396Z"
    }
   },
   "cell_type": "code",
   "source": "df.reset_index(drop=True)\n",
   "id": "8b6e789e332b3fe6",
   "outputs": [
    {
     "data": {
      "text/plain": [
       "                                                   text  rating sentiment\n",
       "0     \"Etui wykonane z dobrych jakościowo materiałów...     2.0  negative\n",
       "1     \"badziew jakich mało. Nie umożliwia ostrzenia ...     1.0  negative\n",
       "2     Już dawno się tak nie zawiodłem. Produkt jest ...     1.0  negative\n",
       "3     Kabel choć na wtyczkach 3 pinowych ma podłączo...     1.0  negative\n",
       "4     Za 10 zł nie oczekiwałem szału ale to co dosta...     1.0  negative\n",
       "...                                                 ...     ...       ...\n",
       "3619   Jest ok . nie jest to moc ssania jak normalne...     5.0  positive\n",
       "3620  Bardzo dobre słuchawki. Opcja włączania po odc...     5.0  positive\n",
       "3621  To jest wręcz rewelacyjny jakościowo produkt. ...     5.0  positive\n",
       "3622  Za tak śmieszną cenę dostałem radio, które prz...     4.0  positive\n",
       "3623  Wcześniej kupowałem dokładnie taki sam kabel, ...     5.0  positive\n",
       "\n",
       "[3624 rows x 3 columns]"
      ],
      "text/html": [
       "<div>\n",
       "<style scoped>\n",
       "    .dataframe tbody tr th:only-of-type {\n",
       "        vertical-align: middle;\n",
       "    }\n",
       "\n",
       "    .dataframe tbody tr th {\n",
       "        vertical-align: top;\n",
       "    }\n",
       "\n",
       "    .dataframe thead th {\n",
       "        text-align: right;\n",
       "    }\n",
       "</style>\n",
       "<table border=\"1\" class=\"dataframe\">\n",
       "  <thead>\n",
       "    <tr style=\"text-align: right;\">\n",
       "      <th></th>\n",
       "      <th>text</th>\n",
       "      <th>rating</th>\n",
       "      <th>sentiment</th>\n",
       "    </tr>\n",
       "  </thead>\n",
       "  <tbody>\n",
       "    <tr>\n",
       "      <th>0</th>\n",
       "      <td>\"Etui wykonane z dobrych jakościowo materiałów...</td>\n",
       "      <td>2.0</td>\n",
       "      <td>negative</td>\n",
       "    </tr>\n",
       "    <tr>\n",
       "      <th>1</th>\n",
       "      <td>\"badziew jakich mało. Nie umożliwia ostrzenia ...</td>\n",
       "      <td>1.0</td>\n",
       "      <td>negative</td>\n",
       "    </tr>\n",
       "    <tr>\n",
       "      <th>2</th>\n",
       "      <td>Już dawno się tak nie zawiodłem. Produkt jest ...</td>\n",
       "      <td>1.0</td>\n",
       "      <td>negative</td>\n",
       "    </tr>\n",
       "    <tr>\n",
       "      <th>3</th>\n",
       "      <td>Kabel choć na wtyczkach 3 pinowych ma podłączo...</td>\n",
       "      <td>1.0</td>\n",
       "      <td>negative</td>\n",
       "    </tr>\n",
       "    <tr>\n",
       "      <th>4</th>\n",
       "      <td>Za 10 zł nie oczekiwałem szału ale to co dosta...</td>\n",
       "      <td>1.0</td>\n",
       "      <td>negative</td>\n",
       "    </tr>\n",
       "    <tr>\n",
       "      <th>...</th>\n",
       "      <td>...</td>\n",
       "      <td>...</td>\n",
       "      <td>...</td>\n",
       "    </tr>\n",
       "    <tr>\n",
       "      <th>3619</th>\n",
       "      <td>Jest ok . nie jest to moc ssania jak normalne...</td>\n",
       "      <td>5.0</td>\n",
       "      <td>positive</td>\n",
       "    </tr>\n",
       "    <tr>\n",
       "      <th>3620</th>\n",
       "      <td>Bardzo dobre słuchawki. Opcja włączania po odc...</td>\n",
       "      <td>5.0</td>\n",
       "      <td>positive</td>\n",
       "    </tr>\n",
       "    <tr>\n",
       "      <th>3621</th>\n",
       "      <td>To jest wręcz rewelacyjny jakościowo produkt. ...</td>\n",
       "      <td>5.0</td>\n",
       "      <td>positive</td>\n",
       "    </tr>\n",
       "    <tr>\n",
       "      <th>3622</th>\n",
       "      <td>Za tak śmieszną cenę dostałem radio, które prz...</td>\n",
       "      <td>4.0</td>\n",
       "      <td>positive</td>\n",
       "    </tr>\n",
       "    <tr>\n",
       "      <th>3623</th>\n",
       "      <td>Wcześniej kupowałem dokładnie taki sam kabel, ...</td>\n",
       "      <td>5.0</td>\n",
       "      <td>positive</td>\n",
       "    </tr>\n",
       "  </tbody>\n",
       "</table>\n",
       "<p>3624 rows × 3 columns</p>\n",
       "</div>"
      ]
     },
     "execution_count": 55,
     "metadata": {},
     "output_type": "execute_result"
    }
   ],
   "execution_count": 55
  }
 ],
 "metadata": {
  "kernelspec": {
   "display_name": "Python 3",
   "language": "python",
   "name": "python3"
  },
  "language_info": {
   "codemirror_mode": {
    "name": "ipython",
    "version": 2
   },
   "file_extension": ".py",
   "mimetype": "text/x-python",
   "name": "python",
   "nbconvert_exporter": "python",
   "pygments_lexer": "ipython2",
   "version": "2.7.6"
  }
 },
 "nbformat": 4,
 "nbformat_minor": 5
}
